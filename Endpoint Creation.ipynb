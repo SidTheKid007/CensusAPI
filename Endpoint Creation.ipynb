{
 "cells": [
  {
   "cell_type": "code",
   "execution_count": 64,
   "id": "desirable-pollution",
   "metadata": {},
   "outputs": [],
   "source": [
    "import psycopg2\n",
    "import pandas as pd\n",
    "import os\n",
    "from dotenv import load_dotenv"
   ]
  },
  {
   "cell_type": "markdown",
   "id": "exempt-residence",
   "metadata": {},
   "source": [
    "## Assemble Data for Endpoint"
   ]
  },
  {
   "cell_type": "code",
   "execution_count": 65,
   "id": "exterior-event",
   "metadata": {},
   "outputs": [],
   "source": [
    "# retrive Demographic data from db\n",
    "def demographics(zipCode):\n",
    "    connection = dbConnect()\n",
    "    zipData = queryZip(zipCode, connection)\n",
    "    demographics = formatDemographics(zipData)\n",
    "    connection.close()\n",
    "    return(demographics)"
   ]
  },
  {
   "cell_type": "code",
   "execution_count": 66,
   "id": "close-moscow",
   "metadata": {},
   "outputs": [],
   "source": [
    "# retrive Demographic data from db\n",
    "def demographicsPct(zipCode):\n",
    "    connection = dbConnect()\n",
    "    zipData = queryZip(zipCode, connection)\n",
    "    demographics = formatDemographicsPct(zipData)\n",
    "    connection.close()\n",
    "    return(demographics)"
   ]
  },
  {
   "cell_type": "code",
   "execution_count": 67,
   "id": "innocent-synthesis",
   "metadata": {},
   "outputs": [],
   "source": [
    "# Connect to DB\n",
    "def dbConnect():\n",
    "    try:\n",
    "        load_dotenv()\n",
    "        connection = psycopg2.connect(\n",
    "            database = \"postgres\",\n",
    "            user = \"census\",\n",
    "            password = os.environ.get('PASSWORD'),\n",
    "            host = os.environ.get('HOST'),\n",
    "            port = 5432\n",
    "            )\n",
    "        return(connection)\n",
    "    except (Exception, psycopg2.DatabaseError) as error:\n",
    "        print(\"Error: %s\" % error)\n",
    "        connection.rollback()\n",
    "        cursor.close()\n",
    "        return('Error')"
   ]
  },
  {
   "cell_type": "code",
   "execution_count": 68,
   "id": "quarterly-parks",
   "metadata": {},
   "outputs": [],
   "source": [
    "# Retrieve proper data about Zip Code\n",
    "def queryZip(zipCode, connection):\n",
    "    try:\n",
    "        cursor = connection.cursor()\n",
    "        cursor.execute(\"\"\"\n",
    "            SELECT * \n",
    "            FROM demographics d\n",
    "            WHERE d.Zip_Code = %s;\n",
    "            \"\"\",\n",
    "            [zipCode,])\n",
    "        zipData = cursor.fetchone()\n",
    "        cursor.close()\n",
    "        return(zipData)\n",
    "    except (Exception, psycopg2.DatabaseError) as error:\n",
    "        print(\"Error: %s\" % error)\n",
    "        connection.rollback()\n",
    "        cursor.close()\n",
    "        return('Error')"
   ]
  },
  {
   "cell_type": "code",
   "execution_count": 69,
   "id": "educational-gamma",
   "metadata": {},
   "outputs": [],
   "source": [
    "# Format Zip Code data\n",
    "def formatDemographics(zipData):\n",
    "    try:\n",
    "        cleanZip = {'Zip Code': zipData[0],\n",
    "         'Population': zipData[1],\n",
    "         'Race': {'White': zipData[2],\n",
    "          'Black or African American': zipData[3],\n",
    "          'American Indian and Alaska Native': zipData[4],\n",
    "          'Asian': zipData[5],\n",
    "          'Native Hawaiian and Other Pacific Islander': zipData[6],\n",
    "          'Some other race': zipData[7],\n",
    "          'Two or more races': zipData[8]},\n",
    "         'Hispanic': {'Hispanic or Latino origin': zipData[9],\n",
    "          'Not Hispanic or Latino': zipData[10]},\n",
    "         'Age': {'Under 35 years': zipData[11],\n",
    "          '35 to 44 years': zipData[12],\n",
    "          '45 to 54 years': zipData[13],\n",
    "          '55 to 64 years': zipData[14],\n",
    "          '65 to 74 years': zipData[15],\n",
    "          '75 to 84 years': zipData[16],\n",
    "          '85 years and over': zipData[17]},\n",
    "         'Education': {'Less than high school graduate': zipData[18],\n",
    "          'High school graduate': zipData[19],\n",
    "          \"Some college\": zipData[20],\n",
    "          \"Bachelor's degree or higher\": zipData[21]}}\n",
    "        return(cleanZip)\n",
    "    except:\n",
    "        return('Error')"
   ]
  },
  {
   "cell_type": "code",
   "execution_count": 70,
   "id": "advanced-controversy",
   "metadata": {},
   "outputs": [],
   "source": [
    "# Format Zip Code data and convert to pct\n",
    "def formatDemographicsPct(zipData):\n",
    "    try:\n",
    "        zipPercent = list(zipData[1:])\n",
    "        zipPercent[:] = [round(100*x/zipPercent[0],2) for x in zipPercent]\n",
    "        zipPercent = [zipData[0]] + zipPercent\n",
    "        cleanZip = {'Zip Code': zipPercent[0],\n",
    "         'Population': zipPercent[1],\n",
    "         'Race': {'White': zipPercent[2],\n",
    "          'Black or African American': zipPercent[3],\n",
    "          'American Indian and Alaska Native': zipPercent[4],\n",
    "          'Asian': zipPercent[5],\n",
    "          'Native Hawaiian and Other Pacific Islander': zipPercent[6],\n",
    "          'Some other race': zipPercent[7],\n",
    "          'Two or more races': zipPercent[8]},\n",
    "         'Hispanic': {'Hispanic or Latino origin': zipPercent[9],\n",
    "          'Not Hispanic or Latino': zipPercent[10]},\n",
    "         'Age': {'Under 35 years': zipPercent[11],\n",
    "          '35 to 44 years': zipPercent[12],\n",
    "          '45 to 54 years': zipPercent[13],\n",
    "          '55 to 64 years': zipPercent[14],\n",
    "          '65 to 74 years': zipPercent[15],\n",
    "          '75 to 84 years': zipPercent[16],\n",
    "          '85 years and over': zipPercent[17]},\n",
    "         'Education': {'Less than high school graduate': zipPercent[18],\n",
    "          'High school graduate': zipPercent[19],\n",
    "          \"Some college\": zipPercent[20],\n",
    "          \"Bachelor's degree or higher\": zipPercent[21]}}\n",
    "        return(cleanZip)\n",
    "    except:\n",
    "        return('Error')"
   ]
  },
  {
   "cell_type": "code",
   "execution_count": 71,
   "id": "fleet-turner",
   "metadata": {},
   "outputs": [
    {
     "data": {
      "text/plain": [
       "{'Zip Code': '91007',\n",
       " 'Population': 100.0,\n",
       " 'Race': {'White': 33.03,\n",
       "  'Black or African American': 1.86,\n",
       "  'American Indian and Alaska Native': 0.26,\n",
       "  'Asian': 55.16,\n",
       "  'Native Hawaiian and Other Pacific Islander': 0.34,\n",
       "  'Some other race': 5.32,\n",
       "  'Two or more races': 4.03},\n",
       " 'Hispanic': {'Hispanic or Latino origin': 14.45,\n",
       "  'Not Hispanic or Latino': 27.34},\n",
       " 'Age': {'Under 35 years': 12.59,\n",
       "  '35 to 44 years': 17.98,\n",
       "  '45 to 54 years': 22.86,\n",
       "  '55 to 64 years': 19.41,\n",
       "  '65 to 74 years': 13.83,\n",
       "  '75 to 84 years': 6.62,\n",
       "  '85 years and over': 6.7},\n",
       " 'Education': {'Less than high school graduate': 6.36,\n",
       "  'High school graduate': 15.45,\n",
       "  'Some college': 19.38,\n",
       "  \"Bachelor's degree or higher\": 58.81}}"
      ]
     },
     "execution_count": 71,
     "metadata": {},
     "output_type": "execute_result"
    }
   ],
   "source": [
    "# Endpoint Testing\n",
    "zipCode = '91007'\n",
    "demographicsPct(zipCode)"
   ]
  },
  {
   "cell_type": "code",
   "execution_count": null,
   "id": "rural-jefferson",
   "metadata": {},
   "outputs": [],
   "source": []
  }
 ],
 "metadata": {
  "kernelspec": {
   "display_name": "Python 3",
   "language": "python",
   "name": "python3"
  },
  "language_info": {
   "codemirror_mode": {
    "name": "ipython",
    "version": 3
   },
   "file_extension": ".py",
   "mimetype": "text/x-python",
   "name": "python",
   "nbconvert_exporter": "python",
   "pygments_lexer": "ipython3",
   "version": "3.7.7"
  }
 },
 "nbformat": 4,
 "nbformat_minor": 5
}
